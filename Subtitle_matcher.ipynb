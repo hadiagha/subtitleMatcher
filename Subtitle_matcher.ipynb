{
 "cells": [
  {
   "cell_type": "code",
   "execution_count": 1,
   "metadata": {},
   "outputs": [],
   "source": [
    "#import libraries\n",
    "\n",
    "import re\n",
    "import pandas as pd\n",
    "import os\n",
    "cwd = os.getcwd()"
   ]
  },
  {
   "cell_type": "code",
   "execution_count": 2,
   "metadata": {},
   "outputs": [],
   "source": [
    "#Initialization\n",
    "TAG_RE = re.compile(r'<[^>]+>')\n",
    "def remove_tags(text):\n",
    "    return TAG_RE.sub('', text)"
   ]
  },
  {
   "cell_type": "code",
   "execution_count": 3,
   "metadata": {},
   "outputs": [],
   "source": [
    "#get movie folder names\n",
    "movies = os.listdir('./movieSubtitles_En_Pr')"
   ]
  },
  {
   "cell_type": "code",
   "execution_count": 4,
   "metadata": {},
   "outputs": [],
   "source": [
    "#Main Loop\n",
    "Total_Movies = pd.DataFrame()\n",
    "for mv in range(len(movies)):\n",
    "    os.chdir(cwd+'//movieSubtitles_En_Pr/'+movies[mv])\n",
    "\n",
    "    #import Reference Subtitle\n",
    "    english = open( \"English.srt\", \"r\")\n",
    "    english_lines = english.read()\n",
    "    english.close()\n",
    "    #english_lines = [i for i in english_lines if i[:-1]]\n",
    "    re_en = re.findall(\"(\\d+:\\d+:\\d+,\\d+ --> \\d+:\\d+:\\d+,\\d+)\\s+(.+)\", english_lines)\n",
    "    #Import Translated Subtitle\n",
    "    persian = open( \"Persian.srt\", \"r\",encoding=\"utf8\")\n",
    "    persian_lines = persian.read()\n",
    "    persian.close()\n",
    "    re_ps = re.findall(\"(\\d+:\\d+:\\d+,\\d+ --> \\d+:\\d+:\\d+,\\d+)\\s+(.+)\", persian_lines)\n",
    "\n",
    "    #===================Change Source ST to dictionary\n",
    "    df_en = pd.DataFrame(index=range(len(re_en)), columns=['start_time','end_time','en_text'])\n",
    "\n",
    "    for i in range(len(re_en)):\n",
    "        df_en.loc[i]['start_time'] = str(re_en[i]).split(\",\")[0].split(\"'\")[1]\n",
    "        df_en.loc[i]['end_time'] =str(re_en[i]).split(\",\")[1].split(\"-->\")[1]\n",
    "        df_en.loc[i]['en_text'] = re.sub('[^A-Za-z0-9]+', ' ', remove_tags(str(re_en[i]).split(\",\")[3]))\n",
    "\n",
    "    #===================Change Translated ST to dictionary\n",
    "    df_ps = pd.DataFrame(index=range(len(re_ps)), columns=['start_time','end_time','pr_text'])\n",
    "    for i in range(len(re_ps)):\n",
    "        df_ps.loc[i]['start_time'] = str(re_ps[i]).split(\",\")[0].split(\"'\")[1]\n",
    "        df_ps.loc[i]['end_time'] =str(re_ps[i]).split(\",\")[1].split(\"-->\")[1]\n",
    "\n",
    "        ts3 = re.sub('[\\W_]+', ' ', re.sub(r'[a-zA-Z?]', '', remove_tags(str(re_ps[i]).split(\",\")[3])).strip()) \n",
    "        df_ps.loc[i]['pr_text'] =  ''.join([i for i in ts3 if not i.isdigit()])\n",
    "    #Combine two data frame\n",
    "    df1 = pd.merge(df_en, df_ps,  how='inner', on=['start_time'])\n",
    "    df2 = pd.merge(df_en, df_ps,  how='inner', on=['end_time'])\n",
    "    df3 = pd.merge(df_en, df_ps,  how='inner', on=['start_time','end_time'])\n",
    "    df_matched = pd.concat([df1, df2,df3])\n",
    "    df_matched = df_matched.drop_duplicates(subset='pr_text', keep=\"first\")\n",
    "    df_matched.columns\n",
    "    df_matched = df_matched[['en_text','pr_text']]\n",
    "    df_matched.insert (0, \"Movie\", movies[mv])\n",
    "    Total_Movies = pd.concat([Total_Movies, df_matched])\n"
   ]
  },
  {
   "cell_type": "code",
   "execution_count": 6,
   "metadata": {},
   "outputs": [],
   "source": [
    "# write to the excel\n",
    "os.chdir(cwd)\n",
    "Total_Movies.to_excel(\"Total_Movies.xlsx\", index = False)"
   ]
  },
  {
   "cell_type": "code",
   "execution_count": null,
   "metadata": {},
   "outputs": [],
   "source": []
  }
 ],
 "metadata": {
  "interpreter": {
   "hash": "565423ac280d6ee0d4b588e8221b48607d6a5d11f40b7022a89b60ca718d28fd"
  },
  "kernelspec": {
   "display_name": "Python 3.10.4 ('rl_env')",
   "language": "python",
   "name": "python3"
  },
  "language_info": {
   "codemirror_mode": {
    "name": "ipython",
    "version": 3
   },
   "file_extension": ".py",
   "mimetype": "text/x-python",
   "name": "python",
   "nbconvert_exporter": "python",
   "pygments_lexer": "ipython3",
   "version": "3.10.4"
  },
  "orig_nbformat": 4
 },
 "nbformat": 4,
 "nbformat_minor": 2
}
